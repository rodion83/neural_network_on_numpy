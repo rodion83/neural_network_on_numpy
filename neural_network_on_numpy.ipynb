{
 "cells": [
  {
   "cell_type": "markdown",
   "metadata": {},
   "source": [
    "# Neural network on numpy\n",
    "Study case: implementing a simple feedforward neural network on numpy, without using specialized libraries."
   ]
  },
  {
   "cell_type": "code",
   "execution_count": 1,
   "metadata": {},
   "outputs": [],
   "source": [
    "import numpy as np\n",
    "from typing import List"
   ]
  },
  {
   "cell_type": "code",
   "execution_count": 2,
   "metadata": {},
   "outputs": [],
   "source": [
    "class Layer:\n",
    "    \"\"\"\n",
    "    Base class for neural network layer.\n",
    "    All the layer types should inherit from it and implement two methods: forward and backward\n",
    "    \"\"\"\n",
    "    def forward(self, x):\n",
    "        pass\n",
    "\n",
    "    def backward(self, dL_dz, learning_rate=0.):\n",
    "        pass\n",
    "\n",
    "\n",
    "class ReLU(Layer):\n",
    "    \"\"\"\n",
    "    Rectified Linear Unit (ReLU) layer\n",
    "    \"\"\"\n",
    "    def forward(self, x):\n",
    "        \"\"\"\n",
    "        Forward pass - calculate the output of ReLU(x)\n",
    "        \n",
    "        x -- layer input of shape (N, in_dim), where N is batch size.\n",
    "        \"\"\"\n",
    "        self._saved_input = x # we will need original input during backpropagation\n",
    "        \n",
    "        return x * (x > 0)\n",
    "\n",
    "\n",
    "    def backward(self, dL_dz, learning_rate=0.):\n",
    "        \"\"\"\n",
    "        Backpropagate through the layer.\n",
    "\n",
    "        dL_dz -- gradient of the loss function calculated at previous backward step.\n",
    "        learning_rate -- unused since ReLU doesn't have any parameters to train.\n",
    "                         ReLU doesn't learn, it's an activation layer.\n",
    "        \n",
    "        Returns calculated derivative dL_dx.\n",
    "        \n",
    "        According to chain rule, dL_dx = dL_dz * dz_dx.\n",
    "        For ReLU layer: dz_dx = 1 if x > 0\n",
    "                        dz_dx = 0 if x < 0\n",
    "                        dz_dx is non-differentiable at x = 0, but we'll arbitrarily chose it to be 0.\n",
    "        \"\"\"\n",
    "        dz_dx = (self._saved_input > 0).astype(np.int32)\n",
    "        \n",
    "        return dz_dx * dL_dz"
   ]
  },
  {
   "cell_type": "code",
   "execution_count": 3,
   "metadata": {},
   "outputs": [],
   "source": [
    "class FCLayer(Layer):\n",
    "    \"\"\"\n",
    "    Fully connected (AKA dense) layer\n",
    "    \"\"\"\n",
    "    def __init__(self, in_dim, out_dim):\n",
    "        \"\"\"\n",
    "        in_dim, out_dim -- input and output layer dimensions\n",
    "        \"\"\"\n",
    "        self.in_dim = in_dim\n",
    "        self.out_dim = out_dim\n",
    "\n",
    "        # Initialize weights matrix with random values sampled from standard normal distribution\n",
    "        self.weights = np.random.default_rng().standard_normal(size=(in_dim, out_dim)) * 0.001\n",
    "        # np.random.randn is commonly used to randomly initialize the weights, but, according to\n",
    "        # documentation for more recent versions of numpy, it's a convenience function that\n",
    "        # wraps `standard_normal` method of Generator object. \n",
    "        \n",
    "        self.bias = np.zeros(self.out_dim)\n",
    "        self._saved_input = None\n",
    "\n",
    "\n",
    "    def forward(self, x: np.ndarray) -> np.ndarray:\n",
    "        \"\"\"\n",
    "        Forward pass - calculate the layer output.\n",
    "\n",
    "        x -- layer input with dimensions (N, in_dim), where N is batch size.\n",
    "\n",
    "        Returns array of size (N, out_dim).\n",
    "        \"\"\"\n",
    "        assert np.ndim(x) == 2\n",
    "        assert x.shape[1] == self.in_dim\n",
    "        \n",
    "        self._saved_input = x\n",
    "        \n",
    "        return np.matmul(x, self.weights) + self.bias\n",
    "\n",
    "\n",
    "    def backward(self, dL_dz, learning_rate=0.):\n",
    "        \"\"\"\n",
    "        Backpropagate through the layer.\n",
    "        \n",
    "        dL_dz -- gradient of the loss function calculated at previous backward step.\n",
    "                 Dimensions: (N, self.out_dim), where N is batch size.\n",
    "        learning_rate -- if not equals 0, update weights and bias (do a gradient descent step)\n",
    "        \n",
    "        Returns calculated derivative dL_dx.\n",
    "        \"\"\"\n",
    "        assert np.ndim(dL_dz) == 2\n",
    "        assert dL_dz.shape[1] == self.out_dim\n",
    "        \n",
    "        # Backpropagation for a Linear Layer:\n",
    "        # http://cs231n.stanford.edu/handouts/linear-backprop.pdf\n",
    "        self.dL_dw = np.dot(self._saved_input.T, dL_dz)\n",
    "        self.dL_dx = np.dot(dL_dz, self.weights.T)\n",
    "        self.dL_db = dL_dz.sum(0) \n",
    "        \n",
    "        assert self.dL_db.shape == self.bias.shape\n",
    "        assert self.dL_dw.shape == self.weights.shape\n",
    "        assert self.dL_dx.shape == self._saved_input.shape\n",
    "\n",
    "        if learning_rate != 0:\n",
    "            # Train layer: do a gradient descent step and update weights\n",
    "            self.weights -= learning_rate * self.dL_dw\n",
    "            self.bias -= learning_rate * self.dL_db\n",
    "        \n",
    "        return self.dL_dx"
   ]
  },
  {
   "cell_type": "code",
   "execution_count": 4,
   "metadata": {},
   "outputs": [],
   "source": [
    "from tqdm.notebook import tqdm\n",
    "from sklearn.metrics import accuracy_score\n",
    "from IPython.display import clear_output"
   ]
  },
  {
   "cell_type": "code",
   "execution_count": 5,
   "metadata": {},
   "outputs": [],
   "source": [
    "class Network:\n",
    "    \"\"\"\n",
    "    A feedforward neural network implementation\n",
    "    \"\"\"\n",
    "    def __init__(self, layers: List[Layer], loss_function: callable = None, loss_grad_function: callable = None):\n",
    "        \"\"\"\n",
    "        Initializes neural network with given layers configuration.\n",
    "        \"\"\"\n",
    "        self.layers = layers\n",
    "        self.loss_function = loss_function\n",
    "        self.loss_grad_function = loss_grad_function\n",
    "\n",
    "\n",
    "    def forward(self, x: np.ndarray):\n",
    "        \"\"\"\n",
    "        x -- input batch of size (N, input_layer_size)\n",
    "        \"\"\"\n",
    "        output = x\n",
    "        \n",
    "        for layer in self.layers:\n",
    "            output = layer.forward(output)\n",
    "        \n",
    "        return output\n",
    "\n",
    "\n",
    "    def predict(self, x):\n",
    "        \"\"\"\n",
    "        x -- input batch of size (N, input_layer_size)\n",
    "        \n",
    "        Returns vector of size (N) with predicted classes for each of the objects in input batch x.\n",
    "        \"\"\"\n",
    "        logits = self.forward(x) # Get logits: do a full forward pass over the entire network.\n",
    "        # Dimensions are (N, k) where k is the count of classes.\n",
    "        \n",
    "        classes = logits.argmax(axis=1)\n",
    "\n",
    "        return classes\n",
    "    \n",
    "    \n",
    "    def train_step(self, x, y, learning_rate):\n",
    "        \"\"\"\n",
    "        x -- input batch of size (N, input_layer_size)\n",
    "        y -- real classes (N,)\n",
    "        \"\"\"\n",
    "        logits = self.forward(x)\n",
    "        loss = self.loss_function(logits, y)\n",
    "        loss_grad = self.loss_grad_function(logits, y)\n",
    "        \n",
    "        for layer in reversed(layers):\n",
    "            loss_grad = layer.backward(loss_grad, learning_rate)\n",
    "\n",
    "        return np.mean(loss)\n",
    "\n",
    "\n",
    "    def fit(self, x_train, y_train, x_test, y_test, learning_rate, num_epochs, batch_size, show_progress=True):\n",
    "        \"\"\"\n",
    "        Fitting cycle: iterate over minibatches, call train_step, store loss change and accuracy change log.\n",
    "        \"\"\"\n",
    "\n",
    "        def iterate_minibatches(inputs, targets, batchsize, shuffle=False):\n",
    "            \n",
    "            assert len(inputs) == len(targets)\n",
    "            \n",
    "            batches_range = range(0, len(inputs) - batchsize + 1, batchsize)\n",
    "            \n",
    "            if show_progress:\n",
    "                batches_range = tqdm(batches_range)\n",
    "            \n",
    "            if shuffle:\n",
    "                indices = np.random.permutation(len(inputs))\n",
    "            \n",
    "            for start_idx in batches_range:\n",
    "                if shuffle:\n",
    "                    batch_indexes = indices[start_idx:start_idx + batchsize]\n",
    "                else:\n",
    "                    batch_indexes = slice(start_idx, start_idx + batchsize)\n",
    "\n",
    "                yield inputs[batch_indexes], targets[batch_indexes]\n",
    "        \n",
    "        \n",
    "        train_log = []\n",
    "        test_log = []\n",
    "        loss_log = []\n",
    "\n",
    "        for epoch in range(num_epochs):\n",
    "            loss_iters = []\n",
    "            for x_batch,y_batch in iterate_minibatches(x_train, y_train, batchsize=batch_size, shuffle=True):\n",
    "                loss_iters.append(self.train_step(x_batch, y_batch, learning_rate=learning_rate))\n",
    "\n",
    "            loss_log.append(np.mean(loss_iters)) # store mean loss at each iteration for visualisation\n",
    "            train_accuracy = accuracy_score(y_train, self.predict(x_train))\n",
    "            test_accuracy = accuracy_score(y_test, self.predict(x_test))\n",
    "            train_log.append(train_accuracy)\n",
    "            test_log.append(test_accuracy)\n",
    "\n",
    "            if show_progress:\n",
    "                clear_output()\n",
    "                print(\"Epoch\", epoch)\n",
    "                print(\"Train accuracy:\", train_log[-1])\n",
    "                print(\"Test accuracy:\", test_log[-1])\n",
    "                plt.figure(figsize=(10, 5))\n",
    "                ax1 = plt.subplot(1,2,1)    \n",
    "                plt.plot(train_log,label='train accuracy')\n",
    "                plt.plot(test_log,label='test accuracy')\n",
    "                ax2 = plt.subplot(1,2,2)\n",
    "                plt.plot(loss_log,label='loss')\n",
    "                ax1.legend(loc='best')\n",
    "                ax2.legend(loc='best')\n",
    "                plt.grid()\n",
    "                plt.tight_layout()\n",
    "                plt.show()\n",
    "        return"
   ]
  },
  {
   "cell_type": "markdown",
   "metadata": {},
   "source": [
    "### Define a loss function\n",
    "\n",
    "Categorical cross-entropy loss for object _**i**_ of class _**k**_ (https://gombru.github.io/2018/05/23/cross_entropy_loss/):\n",
    "\n",
    "$$loss_i=-log(p_{i}^{k})$$\n",
    ", where $p_{i}^{k}$ is predicted probability of object _**i**_ being of class _**k**_ (i.e. network's confidence in correct classification).\n",
    "\n",
    "Such probability can be calculated by applying Softmax function to the neural network output (logits):\n",
    "\n",
    "$$p_{i}^{k}=\\frac{exp(logit_{i}^{k})}{\\sum_{j=1}^{m}exp(logit_{i}^{j})}$$\n",
    ", where $logit_{k}^{i}$ is non-activated network output for object _**i**_ of class _**k**_. Simplifying:\n",
    "\n",
    "$$loss_i = -log(p_i^k) = -log(\\frac{exp(logit_{i}^{k})}{\\sum_{j=1}^{m}exp(logit_{i}^{j})}) = -logit_{i}^{k} + log(\\sum_{j=0}^{m} exp(logit_{i}^{j}))$$"
   ]
  },
  {
   "cell_type": "code",
   "execution_count": 6,
   "metadata": {},
   "outputs": [],
   "source": [
    "def multiclass_crossentropy_with_logits(logits, y_true):\n",
    "    \"\"\"\n",
    "    logits -- network output without activation. Size: (N, k),\n",
    "              where N -- objects count, k -- classes count.\n",
    "    y_true -- true classes for N objects\n",
    "\n",
    "    Returns vector with losses on each object.\n",
    "    \"\"\"\n",
    "\n",
    "    logits_for_answers = logits[np.arange(len(logits)), y_true]\n",
    "    \n",
    "    cross_entropy = -logits_for_answers + np.log(np.sum(np.exp(logits),axis=-1))\n",
    "    \n",
    "    return cross_entropy\n",
    "\n",
    "\n",
    "def grad_multiclass_crossentropy_with_logits(logits, y_true):\n",
    "    \"\"\"\n",
    "    Gradient of categorical cross-entropy loss function.\n",
    "    \n",
    "    logits -- network output without activation. Size: (N, k),\n",
    "              where N -- objects count, k -- classes count.\n",
    "    y_true -- true classes for N objects\n",
    "    \n",
    "    Returns matrix of derivatives.\n",
    "    \"\"\"\n",
    "    \n",
    "    true_indexes = np.zeros_like(logits)\n",
    "    true_indexes[np.arange(len(logits)), y_true] = 1\n",
    "    \n",
    "    softmax = np.exp(logits) / np.exp(logits).sum(axis=-1,keepdims=True)\n",
    "    \n",
    "    return softmax - true_indexes"
   ]
  },
  {
   "cell_type": "markdown",
   "metadata": {},
   "source": [
    "That concludes implementation of all the classes needed for our network to work. Let's run some tests to check how different parts work, and in the end teach our network to classify handwritten numbers from MNIST dataset."
   ]
  },
  {
   "cell_type": "markdown",
   "metadata": {},
   "source": [
    "### Tests: general assertions"
   ]
  },
  {
   "cell_type": "code",
   "execution_count": 7,
   "metadata": {},
   "outputs": [],
   "source": [
    "from matplotlib import pyplot as plt\n",
    "from scipy.misc import derivative"
   ]
  },
  {
   "cell_type": "code",
   "execution_count": 8,
   "metadata": {},
   "outputs": [
    {
     "data": {
      "text/plain": [
       "[<matplotlib.lines.Line2D at 0x9837888>]"
      ]
     },
     "execution_count": 8,
     "metadata": {},
     "output_type": "execute_result"
    },
    {
     "data": {
      "image/png": "[encoded data removed]",
      "text/plain": [
       "<Figure size 432x288 with 1 Axes>"
      ]
     },
     "metadata": {
      "needs_background": "light"
     },
     "output_type": "display_data"
    }
   ],
   "source": [
    "# Visualization of ReLU layer output\n",
    "relu = ReLU()\n",
    "plt.plot(np.linspace(-1, 1, 100), relu.forward(np.linspace(-1, 1, 100)))"
   ]
  },
  {
   "cell_type": "markdown",
   "metadata": {},
   "source": [
    "Seems legit."
   ]
  },
  {
   "cell_type": "code",
   "execution_count": 9,
   "metadata": {},
   "outputs": [
    {
     "name": "stdout",
     "output_type": "stream",
     "text": [
      "Test passed\n"
     ]
    }
   ],
   "source": [
    "# Gradient calculation test\n",
    "f = lambda x: ReLU().forward(x)\n",
    "\n",
    "x = np.linspace(-1, 1, 10*32).reshape([10, 32])\n",
    "l = ReLU()\n",
    "l.forward(x)\n",
    "grads = l.backward(np.ones([10, 32]))\n",
    "numeric_grads = derivative(f, x, dx=1e-6)\n",
    "assert np.allclose(grads, numeric_grads, rtol=1e-3, atol=0),\\\n",
    "     \"gradient returned by ReLU layer implementation doesn't match the numerically computed gradient\"\n",
    "print(\"Test passed\")"
   ]
  },
  {
   "cell_type": "markdown",
   "metadata": {},
   "source": [
    "### Test classification on MNIST dataset"
   ]
  },
  {
   "cell_type": "code",
   "execution_count": 10,
   "metadata": {},
   "outputs": [],
   "source": [
    "def show_mnist(images, labels, predicted_labels=None):\n",
    "    plt.figure(figsize=(10,10))\n",
    "    for i in range(16):\n",
    "        plt.subplot(4,4, i+1)\n",
    "        plt.xticks([])\n",
    "        plt.yticks([])\n",
    "        plt.grid(False)\n",
    "        plt.imshow(images[i], cmap=plt.cm.gray)\n",
    "        if predicted_labels is not None:\n",
    "            title_obj = plt.title(f\"Real: {labels[i]}. Pred: {predicted_labels[i]}\")\n",
    "            if labels[i] != predicted_labels[i]:\n",
    "                plt.setp(title_obj, color='r')\n",
    "        else:\n",
    "            plt.title(f\"Real label: {labels[i]}\")"
   ]
  },
  {
   "cell_type": "code",
   "execution_count": 11,
   "metadata": {},
   "outputs": [
    {
     "name": "stdout",
     "output_type": "stream",
     "text": [
      "(60000, 784) (10000, 784)\n"
     ]
    },
    {
     "data": {
      "image/png": "[encoded data removed]",
      "text/plain": [
       "<Figure size 720x720 with 16 Axes>"
      ]
     },
     "metadata": {},
     "output_type": "display_data"
    }
   ],
   "source": [
    "import tensorflow as tf\n",
    "from sklearn.metrics import accuracy_score\n",
    "(train_images, train_labels), (test_images, test_labels) = tf.keras.datasets.mnist.load_data()\n",
    "\n",
    "show_mnist(train_images, train_labels)\n",
    "\n",
    "# преобразуем изображения к нужному виду\n",
    "train_images = train_images.reshape(train_images.shape[0], -1).astype('float32') / 255.\n",
    "test_images = test_images.reshape(test_images.shape[0], -1).astype('float32') / 255.\n",
    "print(train_images.shape, test_images.shape)"
   ]
  },
  {
   "cell_type": "code",
   "execution_count": 12,
   "metadata": {},
   "outputs": [
    {
     "name": "stdout",
     "output_type": "stream",
     "text": [
      "Epoch 9\n",
      "Train accuracy: 0.9924\n",
      "Test accuracy: 0.9767\n"
     ]
    },
    {
     "data": {
      "image/png": "[encoded data removed]",
      "text/plain": [
       "<Figure size 720x360 with 2 Axes>"
      ]
     },
     "metadata": {
      "needs_background": "light"
     },
     "output_type": "display_data"
    }
   ],
   "source": [
    "# Initialize layers: One hidden layer accepting 100 features and returning 200\n",
    "#                    Output layer returning logits for 10 possible output classes\n",
    "# ----------------------------------------------------------------------------------\n",
    "# Let's build a simple network with one hidden layer.\n",
    "# This will be enough to reach about 97% accuracy on MNIST dataset.\n",
    "layers = []\n",
    "layers.append(FCLayer(train_images.shape[1], 100)) # input layer\n",
    "layers.append(ReLU()) # activation\n",
    "layers.append(FCLayer(100, 200)) # hidden layer with 200 output features\n",
    "layers.append(ReLU()) # activation\n",
    "layers.append(FCLayer(200, 10)) # output layer; don't use activation since loss function expect logits, not probs.\n",
    "\n",
    "net = Network(layers=layers, loss_function=multiclass_crossentropy_with_logits,\n",
    "              loss_grad_function=grad_multiclass_crossentropy_with_logits)\n",
    "\n",
    "net.fit(x_train=train_images, y_train=train_labels, \n",
    "        x_test=test_images, y_test=test_labels,\n",
    "        batch_size=30, num_epochs=10, learning_rate=0.005)"
   ]
  },
  {
   "cell_type": "code",
   "execution_count": 13,
   "metadata": {},
   "outputs": [
    {
     "data": {
      "image/png": "[encoded data removed]",
      "text/plain": [
       "<Figure size 720x720 with 16 Axes>"
      ]
     },
     "metadata": {},
     "output_type": "display_data"
    }
   ],
   "source": [
    "predicted_labels = net.predict(test_images)\n",
    "idxs = np.random.choice(np.arange(len(test_images)), 16, replace=False)\n",
    "show_mnist(test_images[idxs].reshape((-1, 28, 28)), test_labels[idxs], predicted_labels[idxs])"
   ]
  },
  {
   "cell_type": "code",
   "execution_count": null,
   "metadata": {},
   "outputs": [],
   "source": []
  }
 ],
 "metadata": {
  "kernelspec": {
   "display_name": "Python 3",
   "language": "python",
   "name": "python3"
  },
  "language_info": {
   "codemirror_mode": {
    "name": "ipython",
    "version": 3
   },
   "file_extension": ".py",
   "mimetype": "text/x-python",
   "name": "python",
   "nbconvert_exporter": "python",
   "pygments_lexer": "ipython3",
   "version": "3.7.6"
  }
 },
 "nbformat": 4,
 "nbformat_minor": 4
}
